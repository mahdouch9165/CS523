{
 "cells": [
  {
   "cell_type": "code",
   "execution_count": 1,
   "metadata": {},
   "outputs": [],
   "source": [
    "import pandas as pd\n",
    "\n",
    "data_path = r\"c:\\Users\\kmfoc\\Downloads\\nasdaq_external_data.csv\"\n",
    "stock_list_path = \"../data/list_1.csv\""
   ]
  },
  {
   "cell_type": "code",
   "execution_count": 2,
   "metadata": {},
   "outputs": [
    {
     "name": "stdout",
     "output_type": "stream",
     "text": [
      "['MSFT', 'AAPL', 'NVDA', 'AMZN', 'META', 'GOOGL', 'BRK.B', 'GOOG', 'LLY', 'AVGO', 'JPM', 'TSLA', 'UNH', 'V', 'XOM', 'MA', 'JNJ', 'PG', 'HD', 'AMD', 'ABBV', 'COST', 'MRK', 'CRM', 'CVX', 'NFLX', 'WMT', 'ADBE', 'BAC', 'KO', 'ACN', 'TMO', 'LIN', 'PEP', 'MCD', 'ABT', 'WFC', 'DIS', 'CSCO', 'QCOM', 'INTC', 'INTU', 'ORCL', 'GE', 'IBM', 'CMCSA', 'CAT', 'VZ', 'AMAT', 'DHR', 'PFE', 'UBER', 'TXN', 'NOW', 'UNP', 'AMGN', 'PM', 'LOW', 'SPGI', 'COP', 'ISRG', 'HON', 'RTX', 'AXP', 'GS', 'PLD', 'T', 'NKE', 'LRCX', 'BKNG', 'SYK', 'ELV', 'NEE', 'ETN', 'BLK', 'PGR', 'MDT', 'UPS', 'BMY', 'TJX', 'MS', 'C', 'BA', 'VRTX', 'SBUX', 'CB', 'MU', 'REGN', 'MMC', 'DE', 'ADP', 'CI', 'SCHW', 'ADI', 'MDLZ', 'CVS', 'BSX', 'AMT', 'LMT', 'GILD', 'KLAC', 'FI', 'BX', 'PANW', 'SNPS', 'ZTS', 'TMUS', 'EQIX', 'CDNS', 'SHW', 'ICE', 'CME', 'TGT', 'WM', 'SO', 'MO', 'CSX', 'DUK', 'SLB', 'CMG', 'CL', 'ITW', 'ABNB', 'EOG', 'MCK', 'BDX', 'MPC', 'PH', 'ANET', 'USB', 'PSX', 'APH', 'NXPI', 'NOC', 'PYPL', 'TT', 'ORLY', 'TDG', 'AON', 'HCA', 'EMR', 'GD', 'MAR', 'PNC', 'MCO', 'PCAR', 'ROP', 'FDX', 'NSC', 'FCX', 'PXD', 'ECL', 'MSI', 'ADSK', 'APD', 'EW', 'AJG', 'GM', 'CTAS', 'AZO', 'CEG', 'COF', 'LULU', 'AIG', 'HLT', 'MMM', 'DXCM', 'WELL', 'VLO', 'TRV', 'TFC', 'ROST', 'MCHP', 'SPG', 'CCI', 'CARR', 'F', 'CPRT', 'IQV', 'DHI', 'PSA', 'SRE', 'IDXX', 'FTNT', 'NUE', 'OKE', 'URI', 'MSCI', 'WMB', 'MET', 'AFL', 'O', 'DLR', 'AEP', 'TEL', 'MNST', 'A', 'KMB', 'BK', 'HUM', 'GWW', 'FAST', 'STZ', 'ALL', 'AME', 'CNC', 'JCI', 'AMP', 'FIS', 'LEN', 'NEM', 'LHX', 'HES', 'OXY', 'SYY', 'DOW', 'PRU', 'D', 'COR', 'OTIS', 'YUM', 'PAYX', 'CTVA', 'ODFL', 'CTSH', 'CMI', 'GIS', 'RSG', 'MRNA', 'EXC', 'MLM', 'GEHC', 'IR', 'IT', 'KR', 'EL', 'CSGP', 'VMC', 'ON', 'DG', 'PWR', 'KVUE', 'KMI', 'PCG', 'VRSK', 'MPWR', 'GPN', 'ACGL', 'PPG', 'EA', 'BIIB', 'CDW', 'FANG', 'HAL', 'ROK', 'PEG', 'EFX', 'FICO', 'EXR', 'BKR', 'ED', 'DLTR', 'DD', 'VICI', 'DFS', 'XYL', 'RCL', 'CHTR', 'DVN', 'HSY', 'FTV', 'KDP', 'HIG', 'ADM', 'XEL', 'ANSS', 'CBRE', 'CAH', 'MTD', 'WTW', 'RMD', 'KHC', 'DAL', 'KEYS', 'ULTA', 'TSCO', 'ZBH', 'EBAY', 'EIX', 'HPQ', 'WST', 'TROW', 'WEC', 'AVB', 'WY', 'LYB', 'HWM', 'CHD', 'WAB', 'GLW', 'FITB', 'NVR', 'SBAC', 'DOV', 'PHM', 'BR', 'BLDR', 'MTB', 'IRM', 'MOH', 'AWK', 'TRGP', 'DTE', 'HPE', 'STE', 'TTWO', 'STT', 'GRMN', 'RJF', 'APTV', 'PTC', 'BAX', 'ALGN', 'AXON', 'ILMN', 'ETR', 'EQR', 'NTAP', 'GPC', 'ES', 'FLT', 'WAT', 'HUBB', 'IFF', 'BALL', 'DRI', 'NDAQ', 'INVH', 'WBD', 'LUV', 'COO', 'BRO', 'PPL', 'TDY', 'FE', 'CTRA', 'WDC', 'ARE', 'STLD', 'VLTO', 'LVS', 'CBOE', 'HBAN', 'CLX', 'AEE', 'JBL', 'HOLX', 'OMC', 'J', 'LH', 'CINF', 'EXPE', 'RF', 'FDS', 'CNP', 'TXT', 'IEX', 'TYL', 'VTR', 'STX', 'CMS', 'SYF', 'ENPH', 'MKC', 'PFG', 'EXPD', 'EPAM', 'AVY', 'ATO', 'FSLR', 'LDOS', 'WRB', 'SWKS', 'VRSN', 'NTRS', 'MAS', 'PKG', 'AKAM', 'EG', 'JBHT', 'CCL', 'TER', 'CF', 'CFG', 'TSN', 'CE', 'MAA', 'TRMB', 'ESS', 'POOL', 'WBA', 'DPZ', 'SNA', 'BBY', 'HST', 'LW', 'ALB', 'MRO', 'DGX', 'ZBRA', 'VTRS', 'K', 'EQT', 'LYV', 'NDSN', 'SWK', 'UAL', 'KEY', 'L', 'LKQ', 'AMCR', 'NRG', 'BG', 'CAG', 'RVTY', 'CRL', 'PNR', 'KMX', 'ROL', 'IP', 'JKHY', 'PODD', 'IPG', 'LNT', 'SJM', 'DOC', 'GEN', 'TAP', 'EVRG', 'TECH', 'KIM', 'JNPR', 'WRK', 'MGM', 'ALLE', 'FFIV', 'UDR', 'HII', 'QRVO', 'INCY', 'AES', 'NI', 'EMN', 'TPR', 'TFX', 'CPT', 'GL', 'AOS', 'UHS', 'DAY', 'MOS', 'BBWI', 'CTLT', 'REG', 'NWSA', 'BF.B', 'WYNN', 'HRL', 'HSIC', 'APA', 'AAL', 'AIZ', 'MTCH', 'CZR', 'PAYC', 'BXP', 'CHRW', 'ETSY', 'CPB', 'RHI', 'MKTX', 'NCLH', 'PNW', 'FMC', 'BEN', 'BWA', 'FRT', 'FOXA', 'DVA', 'BIO', 'XRAY', 'GNRC', 'IVZ', 'RL', 'CMA', 'HAS', 'MHK', 'ZION', 'WHR', 'PARA', 'VFC', 'FOX', 'NWS']\n"
     ]
    }
   ],
   "source": [
    "stock_list = pd.read_csv(stock_list_path)\n",
    "stock_list = stock_list['Stock_name'].tolist()\n",
    "print(stock_list)"
   ]
  },
  {
   "cell_type": "code",
   "execution_count": 3,
   "metadata": {},
   "outputs": [],
   "source": [
    "import pandas as pd\n",
    "from tqdm import tqdm\n",
    "\n",
    "# Get the total number of rows in the CSV file\n",
    "total_rows = sum(1 for _ in open(data_path, 'r', encoding='utf-8'))\n",
    "\n",
    "# Calculate the total number of chunks\n",
    "chunksize = 1000\n",
    "total_chunks = total_rows // chunksize"
   ]
  },
  {
   "cell_type": "code",
   "execution_count": null,
   "metadata": {},
   "outputs": [],
   "source": [
    "# Read the data from the file in chunks, treating 'Unnamed: 0' as the index column\n",
    "chunk_iter = pd.read_csv(data_path, chunksize=chunksize)\n",
    "\n",
    "# Initialize an empty list to collect filtered DataFrame chunks\n",
    "filtered_chunks = []\n",
    "\n",
    "# Initialize variables for rolling average calculation\n",
    "total_rows_processed = 0\n",
    "total_rows_kept = 0"
   ]
  },
  {
   "cell_type": "code",
   "execution_count": 11,
   "metadata": {},
   "outputs": [
    {
     "name": "stderr",
     "output_type": "stream",
     "text": [
      "Processing chunks:   0%|          | 0/94640 [00:01<?, ?chunk/s]\n"
     ]
    },
    {
     "data": {
      "text/html": [
       "<div>\n",
       "<style scoped>\n",
       "    .dataframe tbody tr th:only-of-type {\n",
       "        vertical-align: middle;\n",
       "    }\n",
       "\n",
       "    .dataframe tbody tr th {\n",
       "        vertical-align: top;\n",
       "    }\n",
       "\n",
       "    .dataframe thead th {\n",
       "        text-align: right;\n",
       "    }\n",
       "</style>\n",
       "<table border=\"1\" class=\"dataframe\">\n",
       "  <thead>\n",
       "    <tr style=\"text-align: right;\">\n",
       "      <th></th>\n",
       "      <th>Unnamed: 0</th>\n",
       "      <th>Date</th>\n",
       "      <th>Article_title</th>\n",
       "      <th>Stock_symbol</th>\n",
       "      <th>Url</th>\n",
       "      <th>Publisher</th>\n",
       "      <th>Author</th>\n",
       "      <th>Article</th>\n",
       "      <th>Lsa_summary</th>\n",
       "      <th>Luhn_summary</th>\n",
       "      <th>Textrank_summary</th>\n",
       "      <th>Lexrank_summary</th>\n",
       "    </tr>\n",
       "  </thead>\n",
       "  <tbody>\n",
       "    <tr>\n",
       "      <th>0</th>\n",
       "      <td>0.0</td>\n",
       "      <td>2023-12-16 23:00:00+00:00</td>\n",
       "      <td>Interesting A Put And Call Options For August ...</td>\n",
       "      <td>A</td>\n",
       "      <td>https://www.nasdaq.com/articles/interesting-a-...</td>\n",
       "      <td>NaN</td>\n",
       "      <td>NaN</td>\n",
       "      <td>Investors in Agilent Technologies, Inc. (Symbo...</td>\n",
       "      <td>Because the $125.00 strike represents an appro...</td>\n",
       "      <td>The current analytical data (including greeks ...</td>\n",
       "      <td>Below is a chart showing the trailing twelve m...</td>\n",
       "      <td>At Stock Options Channel, our YieldBoost formu...</td>\n",
       "    </tr>\n",
       "    <tr>\n",
       "      <th>1</th>\n",
       "      <td>1.0</td>\n",
       "      <td>2023-12-12 00:00:00+00:00</td>\n",
       "      <td>Wolfe Research Initiates Coverage of Agilent T...</td>\n",
       "      <td>A</td>\n",
       "      <td>https://www.nasdaq.com/articles/wolfe-research...</td>\n",
       "      <td>NaN</td>\n",
       "      <td>NaN</td>\n",
       "      <td>Fintel reports that on December 13, 2023, Wolf...</td>\n",
       "      <td>Fintel reports that on December 13, 2023, Wolf...</td>\n",
       "      <td>T. Rowe Price Investment Management holds 10,1...</td>\n",
       "      <td>Agilent Technologies Declares $0.24 Dividend O...</td>\n",
       "      <td>The projected annual revenue for Agilent Techn...</td>\n",
       "    </tr>\n",
       "    <tr>\n",
       "      <th>2</th>\n",
       "      <td>2.0</td>\n",
       "      <td>2023-12-12 00:00:00+00:00</td>\n",
       "      <td>Agilent Technologies Reaches Analyst Target Price</td>\n",
       "      <td>A</td>\n",
       "      <td>https://www.nasdaq.com/articles/agilent-techno...</td>\n",
       "      <td>NaN</td>\n",
       "      <td>NaN</td>\n",
       "      <td>In recent trading, shares of Agilent Technolog...</td>\n",
       "      <td>In recent trading, shares of Agilent Technolog...</td>\n",
       "      <td>In recent trading, shares of Agilent Technolog...</td>\n",
       "      <td>When a stock reaches the target an analyst has...</td>\n",
       "      <td>When a stock reaches the target an analyst has...</td>\n",
       "    </tr>\n",
       "    <tr>\n",
       "      <th>3</th>\n",
       "      <td>3.0</td>\n",
       "      <td>2023-12-07 00:00:00+00:00</td>\n",
       "      <td>Agilent (A) Enhances BioTek Cytation C10 With ...</td>\n",
       "      <td>A</td>\n",
       "      <td>https://www.nasdaq.com/articles/agilent-a-enha...</td>\n",
       "      <td>NaN</td>\n",
       "      <td>NaN</td>\n",
       "      <td>Agilent Technologies A is enhancing its BioTek...</td>\n",
       "      <td>Per a Grand View Research report, the global m...</td>\n",
       "      <td>Notably, Agilent enhanced the BioTek Cytation ...</td>\n",
       "      <td>Agilent Technologies, Inc. Price and Consensus...</td>\n",
       "      <td>Notably, Agilent enhanced the BioTek Cytation ...</td>\n",
       "    </tr>\n",
       "    <tr>\n",
       "      <th>4</th>\n",
       "      <td>4.0</td>\n",
       "      <td>2023-12-07 00:00:00+00:00</td>\n",
       "      <td>Pre-Market Most Active for Dec 7, 2023 : SQQQ,...</td>\n",
       "      <td>A</td>\n",
       "      <td>https://www.nasdaq.com/articles/pre-market-mos...</td>\n",
       "      <td>NaN</td>\n",
       "      <td>NaN</td>\n",
       "      <td>The NASDAQ 100 Pre-Market Indicator is up 70.2...</td>\n",
       "      <td>ProShares UltraPro Short QQQ (SQQQ) is -0.15 a...</td>\n",
       "      <td>As reported by Zacks, the current mean recomme...</td>\n",
       "      <td>The total Pre-Market volume is currently 39,23...</td>\n",
       "      <td>The NASDAQ 100 Pre-Market Indicator is up 70.2...</td>\n",
       "    </tr>\n",
       "  </tbody>\n",
       "</table>\n",
       "</div>"
      ],
      "text/plain": [
       "   Unnamed: 0                      Date  \\\n",
       "0         0.0 2023-12-16 23:00:00+00:00   \n",
       "1         1.0 2023-12-12 00:00:00+00:00   \n",
       "2         2.0 2023-12-12 00:00:00+00:00   \n",
       "3         3.0 2023-12-07 00:00:00+00:00   \n",
       "4         4.0 2023-12-07 00:00:00+00:00   \n",
       "\n",
       "                                       Article_title Stock_symbol  \\\n",
       "0  Interesting A Put And Call Options For August ...            A   \n",
       "1  Wolfe Research Initiates Coverage of Agilent T...            A   \n",
       "2  Agilent Technologies Reaches Analyst Target Price            A   \n",
       "3  Agilent (A) Enhances BioTek Cytation C10 With ...            A   \n",
       "4  Pre-Market Most Active for Dec 7, 2023 : SQQQ,...            A   \n",
       "\n",
       "                                                 Url  Publisher  Author  \\\n",
       "0  https://www.nasdaq.com/articles/interesting-a-...        NaN     NaN   \n",
       "1  https://www.nasdaq.com/articles/wolfe-research...        NaN     NaN   \n",
       "2  https://www.nasdaq.com/articles/agilent-techno...        NaN     NaN   \n",
       "3  https://www.nasdaq.com/articles/agilent-a-enha...        NaN     NaN   \n",
       "4  https://www.nasdaq.com/articles/pre-market-mos...        NaN     NaN   \n",
       "\n",
       "                                             Article  \\\n",
       "0  Investors in Agilent Technologies, Inc. (Symbo...   \n",
       "1  Fintel reports that on December 13, 2023, Wolf...   \n",
       "2  In recent trading, shares of Agilent Technolog...   \n",
       "3  Agilent Technologies A is enhancing its BioTek...   \n",
       "4  The NASDAQ 100 Pre-Market Indicator is up 70.2...   \n",
       "\n",
       "                                         Lsa_summary  \\\n",
       "0  Because the $125.00 strike represents an appro...   \n",
       "1  Fintel reports that on December 13, 2023, Wolf...   \n",
       "2  In recent trading, shares of Agilent Technolog...   \n",
       "3  Per a Grand View Research report, the global m...   \n",
       "4  ProShares UltraPro Short QQQ (SQQQ) is -0.15 a...   \n",
       "\n",
       "                                        Luhn_summary  \\\n",
       "0  The current analytical data (including greeks ...   \n",
       "1  T. Rowe Price Investment Management holds 10,1...   \n",
       "2  In recent trading, shares of Agilent Technolog...   \n",
       "3  Notably, Agilent enhanced the BioTek Cytation ...   \n",
       "4  As reported by Zacks, the current mean recomme...   \n",
       "\n",
       "                                    Textrank_summary  \\\n",
       "0  Below is a chart showing the trailing twelve m...   \n",
       "1  Agilent Technologies Declares $0.24 Dividend O...   \n",
       "2  When a stock reaches the target an analyst has...   \n",
       "3  Agilent Technologies, Inc. Price and Consensus...   \n",
       "4  The total Pre-Market volume is currently 39,23...   \n",
       "\n",
       "                                     Lexrank_summary  \n",
       "0  At Stock Options Channel, our YieldBoost formu...  \n",
       "1  The projected annual revenue for Agilent Techn...  \n",
       "2  When a stock reaches the target an analyst has...  \n",
       "3  Notably, Agilent enhanced the BioTek Cytation ...  \n",
       "4  The NASDAQ 100 Pre-Market Indicator is up 70.2...  "
      ]
     },
     "execution_count": 11,
     "metadata": {},
     "output_type": "execute_result"
    }
   ],
   "source": [
    "# Iterate over each DataFrame chunk with progress bar\n",
    "with tqdm(total=total_chunks, desc=\"Processing chunks\", unit=\"chunk\") as pbar:\n",
    "    for chunk in chunk_iter:\n",
    "        # Convert the 'Date' column to datetime type\n",
    "        chunk['Date'] = pd.to_datetime(chunk['Date'])    \n",
    "    \n",
    "        # Filter the chunk to include only articles dated 2022/12/27 and higher\n",
    "        filtered_chunk = chunk[chunk['Date'] >= '2022-12-27']\n",
    "        \n",
    "        # Filter the chunk to include only the stocks in the stock list\n",
    "        filtered_chunk = filtered_chunk[filtered_chunk['Stock_symbol'].isin(stock_list)]\n",
    "        \n",
    "        # Append the filtered chunk to the list\n",
    "        filtered_chunks.append(filtered_chunk)\n",
    "        \n",
    "        # Update rolling average calculation\n",
    "        total_rows_processed += len(chunk)\n",
    "        total_rows_kept += len(filtered_chunk)\n",
    "        \n",
    "        # Calculate the rolling average percentage\n",
    "        rolling_avg_percentage = (total_rows_kept / total_rows_processed) * 100\n",
    "        \n",
    "        # Update the progress bar description with the rolling average percentage\n",
    "        pbar.set_description(f\"Processing chunks (Rolling Avg: {rolling_avg_percentage:.2f}%)\")\n",
    "        pbar.update(1)\n",
    "\n",
    "# Concatenate all the filtered chunks into a single DataFrame\n",
    "filtered_data = pd.concat(filtered_chunks)\n",
    "\n",
    "filtered_data.head()"
   ]
  },
  {
   "cell_type": "code",
   "execution_count": 14,
   "metadata": {},
   "outputs": [
    {
     "name": "stdout",
     "output_type": "stream",
     "text": [
      "375\n",
      "2022-12-27 00:00:00+00:00\n",
      "2024-01-09 00:00:00+00:00\n"
     ]
    }
   ],
   "source": [
    "# show unique stock symbols\n",
    "print(len(filtered_data['Stock_symbol'].unique()))\n",
    "# print earliest date\n",
    "print(filtered_data['Date'].min())\n",
    "# print latest date\n",
    "print(filtered_data['Date'].max())"
   ]
  },
  {
   "cell_type": "code",
   "execution_count": 15,
   "metadata": {},
   "outputs": [
    {
     "name": "stdout",
     "output_type": "stream",
     "text": [
      "Done\n"
     ]
    }
   ],
   "source": [
    "# override the original csv file\n",
    "filtered_data.to_csv(data_path, index=False)\n",
    "print(\"Done\")"
   ]
  }
 ],
 "metadata": {
  "kernelspec": {
   "display_name": "venv",
   "language": "python",
   "name": "python3"
  },
  "language_info": {
   "codemirror_mode": {
    "name": "ipython",
    "version": 3
   },
   "file_extension": ".py",
   "mimetype": "text/x-python",
   "name": "python",
   "nbconvert_exporter": "python",
   "pygments_lexer": "ipython3",
   "version": "3.9.13"
  }
 },
 "nbformat": 4,
 "nbformat_minor": 2
}
